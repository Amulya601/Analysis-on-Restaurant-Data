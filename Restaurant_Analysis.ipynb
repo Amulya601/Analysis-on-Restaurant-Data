{
 "cells": [
  {
   "cell_type": "markdown",
   "id": "da421412",
   "metadata": {},
   "source": [
    "# Restaurant and Food Establishment Inspections\n",
    "\n",
    "We have collected data from Dallas website.\n",
    "\n",
    "Access link for Data set:\n",
    "https://www.dallasopendata.com/Services/Restaurant-and-Food-Establishment-Inspections-Octo/dri5-wcct/data\n",
    "\n",
    "This data set has a collection of restaurant inspections in various locations from 2017 to 2022. This data has information about Inspection score, Inspection Date, Violation Points, Restaurannt Address, etc. "
   ]
  },
  {
   "cell_type": "markdown",
   "id": "7557c50e",
   "metadata": {},
   "source": [
    "# Importing Libraries"
   ]
  },
  {
   "cell_type": "code",
   "execution_count": 1,
   "id": "312ae4c8",
   "metadata": {},
   "outputs": [],
   "source": [
    "import pandas as pd\n",
    "import matplotlib.pyplot as plt\n",
    "import seaborn as sns\n",
    "import numpy as np"
   ]
  },
  {
   "cell_type": "markdown",
   "id": "dd8da1ca",
   "metadata": {},
   "source": [
    "# Loading data by using Pandas"
   ]
  },
  {
   "cell_type": "code",
   "execution_count": 2,
   "id": "edb9df65",
   "metadata": {},
   "outputs": [],
   "source": [
    "Restaurant_data_df = pd.read_csv(\"Restaurant_and_Food_Establishment_Inspections__October_2016_to_Present_.Csv\" , low_memory=False)"
   ]
  },
  {
   "cell_type": "code",
   "execution_count": 3,
   "id": "f8879eef",
   "metadata": {},
   "outputs": [
    {
     "data": {
      "text/html": [
       "<div>\n",
       "<style scoped>\n",
       "    .dataframe tbody tr th:only-of-type {\n",
       "        vertical-align: middle;\n",
       "    }\n",
       "\n",
       "    .dataframe tbody tr th {\n",
       "        vertical-align: top;\n",
       "    }\n",
       "\n",
       "    .dataframe thead th {\n",
       "        text-align: right;\n",
       "    }\n",
       "</style>\n",
       "<table border=\"1\" class=\"dataframe\">\n",
       "  <thead>\n",
       "    <tr style=\"text-align: right;\">\n",
       "      <th></th>\n",
       "      <th>Restaurant Name</th>\n",
       "      <th>Inspection Type</th>\n",
       "      <th>Inspection Date</th>\n",
       "      <th>Inspection Score</th>\n",
       "      <th>Street Number</th>\n",
       "      <th>Street Name</th>\n",
       "      <th>Street Direction</th>\n",
       "      <th>Street Type</th>\n",
       "      <th>Street Unit</th>\n",
       "      <th>Street Address</th>\n",
       "      <th>...</th>\n",
       "      <th>Violation Points - 24</th>\n",
       "      <th>Violation Detail - 24</th>\n",
       "      <th>Violation Memo - 24</th>\n",
       "      <th>Violation Description - 25</th>\n",
       "      <th>Violation Points - 25</th>\n",
       "      <th>Violation Detail - 25</th>\n",
       "      <th>Violation Memo - 25</th>\n",
       "      <th>Inspection Month</th>\n",
       "      <th>Inspection Year</th>\n",
       "      <th>Lat Long Location</th>\n",
       "    </tr>\n",
       "  </thead>\n",
       "  <tbody>\n",
       "    <tr>\n",
       "      <th>0</th>\n",
       "      <td>MICKLE CHICKEN</td>\n",
       "      <td>Routine</td>\n",
       "      <td>10/30/2019</td>\n",
       "      <td>100</td>\n",
       "      <td>3203</td>\n",
       "      <td>CAMP WISDOM</td>\n",
       "      <td>W</td>\n",
       "      <td>RD</td>\n",
       "      <td>NaN</td>\n",
       "      <td>3203 W CAMP WISDOM RD</td>\n",
       "      <td>...</td>\n",
       "      <td>NaN</td>\n",
       "      <td>NaN</td>\n",
       "      <td>NaN</td>\n",
       "      <td>NaN</td>\n",
       "      <td>NaN</td>\n",
       "      <td>NaN</td>\n",
       "      <td>NaN</td>\n",
       "      <td>Oct 2019</td>\n",
       "      <td>FY2020</td>\n",
       "      <td>3203 W CAMP WISDOM RD\\n(32.662584, -96.873446)</td>\n",
       "    </tr>\n",
       "    <tr>\n",
       "      <th>1</th>\n",
       "      <td>TOM THUMB - JUICE BAR</td>\n",
       "      <td>Routine</td>\n",
       "      <td>04/08/2020</td>\n",
       "      <td>100</td>\n",
       "      <td>2380</td>\n",
       "      <td>FIELD</td>\n",
       "      <td>N</td>\n",
       "      <td>ST</td>\n",
       "      <td>NaN</td>\n",
       "      <td>2380 N FIELD ST</td>\n",
       "      <td>...</td>\n",
       "      <td>NaN</td>\n",
       "      <td>NaN</td>\n",
       "      <td>NaN</td>\n",
       "      <td>NaN</td>\n",
       "      <td>NaN</td>\n",
       "      <td>NaN</td>\n",
       "      <td>NaN</td>\n",
       "      <td>Apr 2020</td>\n",
       "      <td>FY2020</td>\n",
       "      <td>2380 N FIELD ST\\n(32.78904, -96.806882)</td>\n",
       "    </tr>\n",
       "    <tr>\n",
       "      <th>2</th>\n",
       "      <td>BROOKDALE WHITE ROCK</td>\n",
       "      <td>Routine</td>\n",
       "      <td>07/29/2020</td>\n",
       "      <td>97</td>\n",
       "      <td>9271</td>\n",
       "      <td>WHITE ROCK</td>\n",
       "      <td>NaN</td>\n",
       "      <td>TRL</td>\n",
       "      <td>NaN</td>\n",
       "      <td>9271 WHITE ROCK TRL</td>\n",
       "      <td>...</td>\n",
       "      <td>NaN</td>\n",
       "      <td>NaN</td>\n",
       "      <td>NaN</td>\n",
       "      <td>NaN</td>\n",
       "      <td>NaN</td>\n",
       "      <td>NaN</td>\n",
       "      <td>NaN</td>\n",
       "      <td>Jul 2020</td>\n",
       "      <td>FY2020</td>\n",
       "      <td>9271 WHITE ROCK TRL\\n(32.872855, -96.728807)</td>\n",
       "    </tr>\n",
       "    <tr>\n",
       "      <th>3</th>\n",
       "      <td>CHURCH'S CHICKEN #201</td>\n",
       "      <td>Routine</td>\n",
       "      <td>09/14/2020</td>\n",
       "      <td>100</td>\n",
       "      <td>10295</td>\n",
       "      <td>FERGUSON</td>\n",
       "      <td>NaN</td>\n",
       "      <td>RD</td>\n",
       "      <td>NaN</td>\n",
       "      <td>10295 FERGUSON RD</td>\n",
       "      <td>...</td>\n",
       "      <td>NaN</td>\n",
       "      <td>NaN</td>\n",
       "      <td>NaN</td>\n",
       "      <td>NaN</td>\n",
       "      <td>NaN</td>\n",
       "      <td>NaN</td>\n",
       "      <td>NaN</td>\n",
       "      <td>Sep 2020</td>\n",
       "      <td>FY2020</td>\n",
       "      <td>10295 FERGUSON RD\\n(32.83427, -96.673672)</td>\n",
       "    </tr>\n",
       "    <tr>\n",
       "      <th>4</th>\n",
       "      <td>PEAK PREPARATORY-PRIMARY SCHOOL</td>\n",
       "      <td>Routine</td>\n",
       "      <td>04/25/2017</td>\n",
       "      <td>98</td>\n",
       "      <td>1474</td>\n",
       "      <td>ANNEX</td>\n",
       "      <td>NaN</td>\n",
       "      <td>AVE</td>\n",
       "      <td>NaN</td>\n",
       "      <td>1474 ANNEX AVE</td>\n",
       "      <td>...</td>\n",
       "      <td>NaN</td>\n",
       "      <td>NaN</td>\n",
       "      <td>NaN</td>\n",
       "      <td>NaN</td>\n",
       "      <td>NaN</td>\n",
       "      <td>NaN</td>\n",
       "      <td>NaN</td>\n",
       "      <td>Apr 2017</td>\n",
       "      <td>FY2017</td>\n",
       "      <td>1474 ANNEX AVE\\n(32.80208, -96.7769)</td>\n",
       "    </tr>\n",
       "    <tr>\n",
       "      <th>...</th>\n",
       "      <td>...</td>\n",
       "      <td>...</td>\n",
       "      <td>...</td>\n",
       "      <td>...</td>\n",
       "      <td>...</td>\n",
       "      <td>...</td>\n",
       "      <td>...</td>\n",
       "      <td>...</td>\n",
       "      <td>...</td>\n",
       "      <td>...</td>\n",
       "      <td>...</td>\n",
       "      <td>...</td>\n",
       "      <td>...</td>\n",
       "      <td>...</td>\n",
       "      <td>...</td>\n",
       "      <td>...</td>\n",
       "      <td>...</td>\n",
       "      <td>...</td>\n",
       "      <td>...</td>\n",
       "      <td>...</td>\n",
       "      <td>...</td>\n",
       "    </tr>\n",
       "    <tr>\n",
       "      <th>65460</th>\n",
       "      <td>7-ELEVEN CONVENIENCE STORE #38519A</td>\n",
       "      <td>Routine</td>\n",
       "      <td>08/24/2022</td>\n",
       "      <td>88</td>\n",
       "      <td>3435</td>\n",
       "      <td>COMMERCE</td>\n",
       "      <td>NaN</td>\n",
       "      <td>ST</td>\n",
       "      <td>NaN</td>\n",
       "      <td>3435 COMMERCE ST</td>\n",
       "      <td>...</td>\n",
       "      <td>NaN</td>\n",
       "      <td>NaN</td>\n",
       "      <td>NaN</td>\n",
       "      <td>NaN</td>\n",
       "      <td>NaN</td>\n",
       "      <td>NaN</td>\n",
       "      <td>NaN</td>\n",
       "      <td>Aug 2022</td>\n",
       "      <td>FY2022</td>\n",
       "      <td>3435 COMMERCE ST\\n(32.78486, -96.774724)</td>\n",
       "    </tr>\n",
       "    <tr>\n",
       "      <th>65461</th>\n",
       "      <td>TROPICAL SMOOTHIE CAFE</td>\n",
       "      <td>Routine</td>\n",
       "      <td>09/02/2022</td>\n",
       "      <td>91</td>\n",
       "      <td>5315</td>\n",
       "      <td>GREENVILLE</td>\n",
       "      <td>NaN</td>\n",
       "      <td>AVE</td>\n",
       "      <td>#105</td>\n",
       "      <td>5315 GREENVILLE AVE #105</td>\n",
       "      <td>...</td>\n",
       "      <td>NaN</td>\n",
       "      <td>NaN</td>\n",
       "      <td>NaN</td>\n",
       "      <td>NaN</td>\n",
       "      <td>NaN</td>\n",
       "      <td>NaN</td>\n",
       "      <td>NaN</td>\n",
       "      <td>Sep 2022</td>\n",
       "      <td>FY2022</td>\n",
       "      <td>5315 GREENVILLE AVE #105\\n(32.851769, -96.76984)</td>\n",
       "    </tr>\n",
       "    <tr>\n",
       "      <th>65462</th>\n",
       "      <td>ODELAY</td>\n",
       "      <td>Routine</td>\n",
       "      <td>08/23/2022</td>\n",
       "      <td>89</td>\n",
       "      <td>5600</td>\n",
       "      <td>LOVERS</td>\n",
       "      <td>W</td>\n",
       "      <td>LN</td>\n",
       "      <td>#109</td>\n",
       "      <td>5600 W LOVERS LN #109</td>\n",
       "      <td>...</td>\n",
       "      <td>NaN</td>\n",
       "      <td>NaN</td>\n",
       "      <td>NaN</td>\n",
       "      <td>NaN</td>\n",
       "      <td>NaN</td>\n",
       "      <td>NaN</td>\n",
       "      <td>NaN</td>\n",
       "      <td>Aug 2022</td>\n",
       "      <td>FY2022</td>\n",
       "      <td>5600 W LOVERS LN #109\\n(32.851172, -96.81632)</td>\n",
       "    </tr>\n",
       "    <tr>\n",
       "      <th>65463</th>\n",
       "      <td>CK BILLIARDS</td>\n",
       "      <td>Routine</td>\n",
       "      <td>08/24/2022</td>\n",
       "      <td>84</td>\n",
       "      <td>19049</td>\n",
       "      <td>MARSH</td>\n",
       "      <td>NaN</td>\n",
       "      <td>LN</td>\n",
       "      <td>#109</td>\n",
       "      <td>19049 MARSH LN #109</td>\n",
       "      <td>...</td>\n",
       "      <td>NaN</td>\n",
       "      <td>NaN</td>\n",
       "      <td>NaN</td>\n",
       "      <td>NaN</td>\n",
       "      <td>NaN</td>\n",
       "      <td>NaN</td>\n",
       "      <td>NaN</td>\n",
       "      <td>Aug 2022</td>\n",
       "      <td>FY2022</td>\n",
       "      <td>19049 MARSH LN #109\\n(33.010785, -96.857359)</td>\n",
       "    </tr>\n",
       "    <tr>\n",
       "      <th>65464</th>\n",
       "      <td>FLAGSHIP FOH #2053  SUITES PANTRY</td>\n",
       "      <td>Routine</td>\n",
       "      <td>05/23/2017</td>\n",
       "      <td>98</td>\n",
       "      <td>2500</td>\n",
       "      <td>VICTORY</td>\n",
       "      <td>NaN</td>\n",
       "      <td>AVE</td>\n",
       "      <td>#2053</td>\n",
       "      <td>2500 VICTORY AVE FSHP #2053</td>\n",
       "      <td>...</td>\n",
       "      <td>NaN</td>\n",
       "      <td>NaN</td>\n",
       "      <td>NaN</td>\n",
       "      <td>NaN</td>\n",
       "      <td>NaN</td>\n",
       "      <td>NaN</td>\n",
       "      <td>NaN</td>\n",
       "      <td>May 2017</td>\n",
       "      <td>FY2017</td>\n",
       "      <td>2500 VICTORY AVE FSHP #2053\\n(32.79008, -96.81...</td>\n",
       "    </tr>\n",
       "  </tbody>\n",
       "</table>\n",
       "<p>65465 rows × 114 columns</p>\n",
       "</div>"
      ],
      "text/plain": [
       "                          Restaurant Name Inspection Type Inspection Date  \\\n",
       "0                          MICKLE CHICKEN         Routine      10/30/2019   \n",
       "1                   TOM THUMB - JUICE BAR         Routine      04/08/2020   \n",
       "2                    BROOKDALE WHITE ROCK         Routine      07/29/2020   \n",
       "3                   CHURCH'S CHICKEN #201         Routine      09/14/2020   \n",
       "4         PEAK PREPARATORY-PRIMARY SCHOOL         Routine      04/25/2017   \n",
       "...                                   ...             ...             ...   \n",
       "65460  7-ELEVEN CONVENIENCE STORE #38519A         Routine      08/24/2022   \n",
       "65461              TROPICAL SMOOTHIE CAFE         Routine      09/02/2022   \n",
       "65462                              ODELAY         Routine      08/23/2022   \n",
       "65463                        CK BILLIARDS         Routine      08/24/2022   \n",
       "65464   FLAGSHIP FOH #2053  SUITES PANTRY         Routine      05/23/2017   \n",
       "\n",
       "       Inspection Score  Street Number  Street Name Street Direction  \\\n",
       "0                   100           3203  CAMP WISDOM                W   \n",
       "1                   100           2380        FIELD                N   \n",
       "2                    97           9271   WHITE ROCK              NaN   \n",
       "3                   100          10295     FERGUSON              NaN   \n",
       "4                    98           1474        ANNEX              NaN   \n",
       "...                 ...            ...          ...              ...   \n",
       "65460                88           3435     COMMERCE              NaN   \n",
       "65461                91           5315   GREENVILLE              NaN   \n",
       "65462                89           5600       LOVERS                W   \n",
       "65463                84          19049        MARSH              NaN   \n",
       "65464                98           2500      VICTORY              NaN   \n",
       "\n",
       "      Street Type Street Unit               Street Address  ...  \\\n",
       "0              RD         NaN        3203 W CAMP WISDOM RD  ...   \n",
       "1              ST         NaN              2380 N FIELD ST  ...   \n",
       "2             TRL         NaN          9271 WHITE ROCK TRL  ...   \n",
       "3              RD         NaN            10295 FERGUSON RD  ...   \n",
       "4             AVE         NaN               1474 ANNEX AVE  ...   \n",
       "...           ...         ...                          ...  ...   \n",
       "65460          ST         NaN             3435 COMMERCE ST  ...   \n",
       "65461         AVE        #105     5315 GREENVILLE AVE #105  ...   \n",
       "65462          LN        #109        5600 W LOVERS LN #109  ...   \n",
       "65463          LN        #109          19049 MARSH LN #109  ...   \n",
       "65464         AVE       #2053  2500 VICTORY AVE FSHP #2053  ...   \n",
       "\n",
       "      Violation Points - 24 Violation Detail - 24  Violation Memo - 24  \\\n",
       "0                       NaN                   NaN                  NaN   \n",
       "1                       NaN                   NaN                  NaN   \n",
       "2                       NaN                   NaN                  NaN   \n",
       "3                       NaN                   NaN                  NaN   \n",
       "4                       NaN                   NaN                  NaN   \n",
       "...                     ...                   ...                  ...   \n",
       "65460                   NaN                   NaN                  NaN   \n",
       "65461                   NaN                   NaN                  NaN   \n",
       "65462                   NaN                   NaN                  NaN   \n",
       "65463                   NaN                   NaN                  NaN   \n",
       "65464                   NaN                   NaN                  NaN   \n",
       "\n",
       "      Violation Description - 25 Violation Points - 25 Violation Detail - 25  \\\n",
       "0                            NaN                   NaN                   NaN   \n",
       "1                            NaN                   NaN                   NaN   \n",
       "2                            NaN                   NaN                   NaN   \n",
       "3                            NaN                   NaN                   NaN   \n",
       "4                            NaN                   NaN                   NaN   \n",
       "...                          ...                   ...                   ...   \n",
       "65460                        NaN                   NaN                   NaN   \n",
       "65461                        NaN                   NaN                   NaN   \n",
       "65462                        NaN                   NaN                   NaN   \n",
       "65463                        NaN                   NaN                   NaN   \n",
       "65464                        NaN                   NaN                   NaN   \n",
       "\n",
       "       Violation Memo - 25 Inspection Month Inspection Year  \\\n",
       "0                      NaN         Oct 2019          FY2020   \n",
       "1                      NaN         Apr 2020          FY2020   \n",
       "2                      NaN         Jul 2020          FY2020   \n",
       "3                      NaN         Sep 2020          FY2020   \n",
       "4                      NaN         Apr 2017          FY2017   \n",
       "...                    ...              ...             ...   \n",
       "65460                  NaN         Aug 2022          FY2022   \n",
       "65461                  NaN         Sep 2022          FY2022   \n",
       "65462                  NaN         Aug 2022          FY2022   \n",
       "65463                  NaN         Aug 2022          FY2022   \n",
       "65464                  NaN         May 2017          FY2017   \n",
       "\n",
       "                                       Lat Long Location  \n",
       "0         3203 W CAMP WISDOM RD\\n(32.662584, -96.873446)  \n",
       "1                2380 N FIELD ST\\n(32.78904, -96.806882)  \n",
       "2           9271 WHITE ROCK TRL\\n(32.872855, -96.728807)  \n",
       "3              10295 FERGUSON RD\\n(32.83427, -96.673672)  \n",
       "4                   1474 ANNEX AVE\\n(32.80208, -96.7769)  \n",
       "...                                                  ...  \n",
       "65460           3435 COMMERCE ST\\n(32.78486, -96.774724)  \n",
       "65461   5315 GREENVILLE AVE #105\\n(32.851769, -96.76984)  \n",
       "65462      5600 W LOVERS LN #109\\n(32.851172, -96.81632)  \n",
       "65463       19049 MARSH LN #109\\n(33.010785, -96.857359)  \n",
       "65464  2500 VICTORY AVE FSHP #2053\\n(32.79008, -96.81...  \n",
       "\n",
       "[65465 rows x 114 columns]"
      ]
     },
     "execution_count": 3,
     "metadata": {},
     "output_type": "execute_result"
    }
   ],
   "source": [
    "Restaurant_data_df"
   ]
  },
  {
   "cell_type": "code",
   "execution_count": 4,
   "id": "b3ef13be",
   "metadata": {},
   "outputs": [
    {
     "name": "stdout",
     "output_type": "stream",
     "text": [
      "['Restaurant Name' 'Inspection Type' 'Inspection Date' 'Inspection Score'\n",
      " 'Street Number' 'Street Name' 'Street Direction' 'Street Type'\n",
      " 'Street Unit' 'Street Address' 'Zip Code' 'Violation Description - 1'\n",
      " 'Violation Points - 1' 'Violation Detail - 1' 'Violation Memo - 1'\n",
      " 'Violation Description - 2' 'Violation Points - 2' 'Violation Detail - 2'\n",
      " 'Violation Memo - 2' 'Violation Description - 3' 'Violation Points - 3'\n",
      " 'Violation Detail - 3' 'Violation Memo - 3' 'Violation Description - 4'\n",
      " 'Violation Points - 4' 'Violation Detail - 4' 'Violation Memo - 4'\n",
      " 'Violation Description - 5' 'Violation Points - 5' 'Violation Detail - 5'\n",
      " 'Violation Memo - 5' 'Violation Description - 6' 'Violation Points - 6'\n",
      " 'Violation Detail - 6' 'Violation Memo - 6' 'Violation Description - 7'\n",
      " 'Violation Points - 7' 'Violation Detail - 7' 'Violation Memo - 7'\n",
      " 'Violation Description - 8' 'Violation Points - 8' 'Violation Detail - 8'\n",
      " 'Violation Memo - 8' 'Violation Description - 9' 'Violation Points - 9'\n",
      " 'Violation Detail - 9' 'Violation Memo - 9' 'Violation Description - 10'\n",
      " 'Violation Points - 10' 'Violation Detail - 10' 'Violation Memo - 10'\n",
      " 'Violation Description - 11' 'Violation Points - 11'\n",
      " 'Violation Detail - 11' 'Violation Memo - 11'\n",
      " 'Violation Description - 12' 'Violation Points - 12'\n",
      " 'Violation Detail - 12' 'Violation Memo - 12'\n",
      " 'Violation Description - 13' 'Violation Points - 13'\n",
      " 'Violation Detail - 13' 'Violation Memo - 13'\n",
      " 'Violation Description - 14' 'Violation Points - 14'\n",
      " 'Violation Detail - 14' 'Violation Memo - 14'\n",
      " 'Violation Description - 15' 'Violation Points - 15'\n",
      " 'Violation Detail - 15' 'Violation Memo - 15'\n",
      " 'Violation Description - 16' 'Violation Points - 16'\n",
      " 'Violation Detail - 16' 'Violation Memo - 16'\n",
      " 'Violation Description - 17' 'Violation Points - 17'\n",
      " 'Violation Detail - 17' 'Violation Memo - 17'\n",
      " 'Violation Description - 18' 'Violation Points - 18'\n",
      " 'Violation Detail - 18' 'Violation Memo - 18'\n",
      " 'Violation Description - 19' 'Violation Points - 19'\n",
      " 'Violation Detail - 19' 'Violation Memo - 19'\n",
      " 'Violation Description - 20' 'Violation Points - 20'\n",
      " 'Violation Detail - 20' 'Violation  Memo - 20'\n",
      " 'Violation Description - 21' 'Violation Points - 21'\n",
      " 'Violation Detail - 21' 'Violation Memo - 21'\n",
      " 'Violation Description - 22' 'Violation Points - 22'\n",
      " 'Violation Detail - 22' 'Violation Memo - 22'\n",
      " 'Violation Description - 23' 'Violation Points - 23'\n",
      " 'Violation Detail - 23' 'Violation Memo - 23'\n",
      " 'Violation Description - 24' 'Violation Points - 24'\n",
      " 'Violation Detail - 24' 'Violation Memo - 24'\n",
      " 'Violation Description - 25' 'Violation Points - 25'\n",
      " 'Violation Detail - 25' 'Violation Memo - 25' 'Inspection Month'\n",
      " 'Inspection Year' 'Lat Long Location']\n"
     ]
    }
   ],
   "source": [
    "#printing all the columns in the dataset\n",
    "print(Restaurant_data_df.columns.values)\n"
   ]
  },
  {
   "cell_type": "markdown",
   "id": "ad0b2024",
   "metadata": {},
   "source": [
    "# Removing columns with null values"
   ]
  },
  {
   "cell_type": "code",
   "execution_count": 5,
   "id": "fea0e3c4",
   "metadata": {},
   "outputs": [
    {
     "name": "stdout",
     "output_type": "stream",
     "text": [
      "                          Restaurant Name Inspection Type Inspection Date  \\\n",
      "0                          MICKLE CHICKEN         Routine      10/30/2019   \n",
      "1                   TOM THUMB - JUICE BAR         Routine      04/08/2020   \n",
      "2                    BROOKDALE WHITE ROCK         Routine      07/29/2020   \n",
      "3                   CHURCH'S CHICKEN #201         Routine      09/14/2020   \n",
      "4         PEAK PREPARATORY-PRIMARY SCHOOL         Routine      04/25/2017   \n",
      "...                                   ...             ...             ...   \n",
      "65460  7-ELEVEN CONVENIENCE STORE #38519A         Routine      08/24/2022   \n",
      "65461              TROPICAL SMOOTHIE CAFE         Routine      09/02/2022   \n",
      "65462                              ODELAY         Routine      08/23/2022   \n",
      "65463                        CK BILLIARDS         Routine      08/24/2022   \n",
      "65464   FLAGSHIP FOH #2053  SUITES PANTRY         Routine      05/23/2017   \n",
      "\n",
      "       Inspection Score  Street Number  Street Name Street Direction  \\\n",
      "0                   100           3203  CAMP WISDOM                W   \n",
      "1                   100           2380        FIELD                N   \n",
      "2                    97           9271   WHITE ROCK              NaN   \n",
      "3                   100          10295     FERGUSON              NaN   \n",
      "4                    98           1474        ANNEX              NaN   \n",
      "...                 ...            ...          ...              ...   \n",
      "65460                88           3435     COMMERCE              NaN   \n",
      "65461                91           5315   GREENVILLE              NaN   \n",
      "65462                89           5600       LOVERS                W   \n",
      "65463                84          19049        MARSH              NaN   \n",
      "65464                98           2500      VICTORY              NaN   \n",
      "\n",
      "      Street Type Street Unit               Street Address  ...  \\\n",
      "0              RD         NaN        3203 W CAMP WISDOM RD  ...   \n",
      "1              ST         NaN              2380 N FIELD ST  ...   \n",
      "2             TRL         NaN          9271 WHITE ROCK TRL  ...   \n",
      "3              RD         NaN            10295 FERGUSON RD  ...   \n",
      "4             AVE         NaN               1474 ANNEX AVE  ...   \n",
      "...           ...         ...                          ...  ...   \n",
      "65460          ST         NaN             3435 COMMERCE ST  ...   \n",
      "65461         AVE        #105     5315 GREENVILLE AVE #105  ...   \n",
      "65462          LN        #109        5600 W LOVERS LN #109  ...   \n",
      "65463          LN        #109          19049 MARSH LN #109  ...   \n",
      "65464         AVE       #2053  2500 VICTORY AVE FSHP #2053  ...   \n",
      "\n",
      "      Violation Points - 24 Violation Detail - 24  Violation Memo - 24  \\\n",
      "0                       NaN                   NaN                  NaN   \n",
      "1                       NaN                   NaN                  NaN   \n",
      "2                       NaN                   NaN                  NaN   \n",
      "3                       NaN                   NaN                  NaN   \n",
      "4                       NaN                   NaN                  NaN   \n",
      "...                     ...                   ...                  ...   \n",
      "65460                   NaN                   NaN                  NaN   \n",
      "65461                   NaN                   NaN                  NaN   \n",
      "65462                   NaN                   NaN                  NaN   \n",
      "65463                   NaN                   NaN                  NaN   \n",
      "65464                   NaN                   NaN                  NaN   \n",
      "\n",
      "      Violation Description - 25 Violation Points - 25 Violation Detail - 25  \\\n",
      "0                            NaN                   NaN                   NaN   \n",
      "1                            NaN                   NaN                   NaN   \n",
      "2                            NaN                   NaN                   NaN   \n",
      "3                            NaN                   NaN                   NaN   \n",
      "4                            NaN                   NaN                   NaN   \n",
      "...                          ...                   ...                   ...   \n",
      "65460                        NaN                   NaN                   NaN   \n",
      "65461                        NaN                   NaN                   NaN   \n",
      "65462                        NaN                   NaN                   NaN   \n",
      "65463                        NaN                   NaN                   NaN   \n",
      "65464                        NaN                   NaN                   NaN   \n",
      "\n",
      "       Violation Memo - 25 Inspection Month Inspection Year  \\\n",
      "0                      NaN         Oct 2019          FY2020   \n",
      "1                      NaN         Apr 2020          FY2020   \n",
      "2                      NaN         Jul 2020          FY2020   \n",
      "3                      NaN         Sep 2020          FY2020   \n",
      "4                      NaN         Apr 2017          FY2017   \n",
      "...                    ...              ...             ...   \n",
      "65460                  NaN         Aug 2022          FY2022   \n",
      "65461                  NaN         Sep 2022          FY2022   \n",
      "65462                  NaN         Aug 2022          FY2022   \n",
      "65463                  NaN         Aug 2022          FY2022   \n",
      "65464                  NaN         May 2017          FY2017   \n",
      "\n",
      "                                       Lat Long Location  \n",
      "0         3203 W CAMP WISDOM RD\\n(32.662584, -96.873446)  \n",
      "1                2380 N FIELD ST\\n(32.78904, -96.806882)  \n",
      "2           9271 WHITE ROCK TRL\\n(32.872855, -96.728807)  \n",
      "3              10295 FERGUSON RD\\n(32.83427, -96.673672)  \n",
      "4                   1474 ANNEX AVE\\n(32.80208, -96.7769)  \n",
      "...                                                  ...  \n",
      "65460           3435 COMMERCE ST\\n(32.78486, -96.774724)  \n",
      "65461   5315 GREENVILLE AVE #105\\n(32.851769, -96.76984)  \n",
      "65462      5600 W LOVERS LN #109\\n(32.851172, -96.81632)  \n",
      "65463       19049 MARSH LN #109\\n(33.010785, -96.857359)  \n",
      "65464  2500 VICTORY AVE FSHP #2053\\n(32.79008, -96.81...  \n",
      "\n",
      "[65465 rows x 114 columns]\n"
     ]
    }
   ],
   "source": [
    "df=Restaurant_data_df.dropna(axis=1,how='all')\n",
    "print(df)"
   ]
  },
  {
   "cell_type": "code",
   "execution_count": 6,
   "id": "bf46cfc2",
   "metadata": {},
   "outputs": [
    {
     "name": "stdout",
     "output_type": "stream",
     "text": [
      "\n",
      "CSV Data after deleting the column 'year':\n",
      "\n",
      "                          Restaurant Name Inspection Type Inspection Date  \\\n",
      "0                          MICKLE CHICKEN         Routine      10/30/2019   \n",
      "1                   TOM THUMB - JUICE BAR         Routine      04/08/2020   \n",
      "2                    BROOKDALE WHITE ROCK         Routine      07/29/2020   \n",
      "3                   CHURCH'S CHICKEN #201         Routine      09/14/2020   \n",
      "4         PEAK PREPARATORY-PRIMARY SCHOOL         Routine      04/25/2017   \n",
      "...                                   ...             ...             ...   \n",
      "65460  7-ELEVEN CONVENIENCE STORE #38519A         Routine      08/24/2022   \n",
      "65461              TROPICAL SMOOTHIE CAFE         Routine      09/02/2022   \n",
      "65462                              ODELAY         Routine      08/23/2022   \n",
      "65463                        CK BILLIARDS         Routine      08/24/2022   \n",
      "65464   FLAGSHIP FOH #2053  SUITES PANTRY         Routine      05/23/2017   \n",
      "\n",
      "       Inspection Score  Street Number  Street Name  \\\n",
      "0                   100           3203  CAMP WISDOM   \n",
      "1                   100           2380        FIELD   \n",
      "2                    97           9271   WHITE ROCK   \n",
      "3                   100          10295     FERGUSON   \n",
      "4                    98           1474        ANNEX   \n",
      "...                 ...            ...          ...   \n",
      "65460                88           3435     COMMERCE   \n",
      "65461                91           5315   GREENVILLE   \n",
      "65462                89           5600       LOVERS   \n",
      "65463                84          19049        MARSH   \n",
      "65464                98           2500      VICTORY   \n",
      "\n",
      "                    Street Address Zip Code  \\\n",
      "0            3203 W CAMP WISDOM RD    75237   \n",
      "1                  2380 N FIELD ST    75021   \n",
      "2              9271 WHITE ROCK TRL    75238   \n",
      "3                10295 FERGUSON RD    75228   \n",
      "4                   1474 ANNEX AVE    75204   \n",
      "...                            ...      ...   \n",
      "65460             3435 COMMERCE ST    75226   \n",
      "65461     5315 GREENVILLE AVE #105    75206   \n",
      "65462        5600 W LOVERS LN #109    75209   \n",
      "65463          19049 MARSH LN #109    75252   \n",
      "65464  2500 VICTORY AVE FSHP #2053    75201   \n",
      "\n",
      "                               Violation Description - 1  \\\n",
      "0                                                    NaN   \n",
      "1                                                    NaN   \n",
      "2                                 *21 RFSM - Not On Site   \n",
      "3                                                    NaN   \n",
      "4                                 *21 RFSM - Not On Site   \n",
      "...                                                  ...   \n",
      "65460  *03 Food products not maintained at 135øF or a...   \n",
      "65461    *10 Q.A. PPM -  follow manufacturer's direction   \n",
      "65462                          *10 Clean Sight and Touch   \n",
      "65463  *07 Food safe, good condition, unadulterated, ...   \n",
      "65464                            *31 No soap at handsink   \n",
      "\n",
      "       Violation Points - 1  ... Violation Points - 24 Violation Detail - 24  \\\n",
      "0                       NaN  ...                   NaN                   NaN   \n",
      "1                       NaN  ...                   NaN                   NaN   \n",
      "2                       2.0  ...                   NaN                   NaN   \n",
      "3                       NaN  ...                   NaN                   NaN   \n",
      "4                       2.0  ...                   NaN                   NaN   \n",
      "...                     ...  ...                   ...                   ...   \n",
      "65460                   3.0  ...                   NaN                   NaN   \n",
      "65461                   3.0  ...                   NaN                   NaN   \n",
      "65462                   3.0  ...                   NaN                   NaN   \n",
      "65463                   3.0  ...                   NaN                   NaN   \n",
      "65464                   2.0  ...                   NaN                   NaN   \n",
      "\n",
      "      Violation Memo - 24  Violation Description - 25 Violation Points - 25  \\\n",
      "0                     NaN                         NaN                   NaN   \n",
      "1                     NaN                         NaN                   NaN   \n",
      "2                     NaN                         NaN                   NaN   \n",
      "3                     NaN                         NaN                   NaN   \n",
      "4                     NaN                         NaN                   NaN   \n",
      "...                   ...                         ...                   ...   \n",
      "65460                 NaN                         NaN                   NaN   \n",
      "65461                 NaN                         NaN                   NaN   \n",
      "65462                 NaN                         NaN                   NaN   \n",
      "65463                 NaN                         NaN                   NaN   \n",
      "65464                 NaN                         NaN                   NaN   \n",
      "\n",
      "      Violation Detail - 25 Violation Memo - 25  Inspection Month  \\\n",
      "0                       NaN                 NaN          Oct 2019   \n",
      "1                       NaN                 NaN          Apr 2020   \n",
      "2                       NaN                 NaN          Jul 2020   \n",
      "3                       NaN                 NaN          Sep 2020   \n",
      "4                       NaN                 NaN          Apr 2017   \n",
      "...                     ...                 ...               ...   \n",
      "65460                   NaN                 NaN          Aug 2022   \n",
      "65461                   NaN                 NaN          Sep 2022   \n",
      "65462                   NaN                 NaN          Aug 2022   \n",
      "65463                   NaN                 NaN          Aug 2022   \n",
      "65464                   NaN                 NaN          May 2017   \n",
      "\n",
      "      Inspection Year                                  Lat Long Location  \n",
      "0              FY2020     3203 W CAMP WISDOM RD\\n(32.662584, -96.873446)  \n",
      "1              FY2020            2380 N FIELD ST\\n(32.78904, -96.806882)  \n",
      "2              FY2020       9271 WHITE ROCK TRL\\n(32.872855, -96.728807)  \n",
      "3              FY2020          10295 FERGUSON RD\\n(32.83427, -96.673672)  \n",
      "4              FY2017               1474 ANNEX AVE\\n(32.80208, -96.7769)  \n",
      "...               ...                                                ...  \n",
      "65460          FY2022           3435 COMMERCE ST\\n(32.78486, -96.774724)  \n",
      "65461          FY2022   5315 GREENVILLE AVE #105\\n(32.851769, -96.76984)  \n",
      "65462          FY2022      5600 W LOVERS LN #109\\n(32.851172, -96.81632)  \n",
      "65463          FY2022       19049 MARSH LN #109\\n(33.010785, -96.857359)  \n",
      "65464          FY2017  2500 VICTORY AVE FSHP #2053\\n(32.79008, -96.81...  \n",
      "\n",
      "[65465 rows x 111 columns]\n"
     ]
    }
   ],
   "source": [
    "df=df.drop(['Street Direction', 'Street Type','Street Unit'], axis=1)\n",
    "  \n",
    "# display \n",
    "print(\"\\nCSV Data after deleting the column 'year':\\n\")\n",
    "print(df)"
   ]
  },
  {
   "cell_type": "code",
   "execution_count": 7,
   "id": "42b13ed2",
   "metadata": {},
   "outputs": [
    {
     "name": "stdout",
     "output_type": "stream",
     "text": [
      "                          Restaurant Name Inspection Type Inspection Date  \\\n",
      "0                          MICKLE CHICKEN         Routine      10/30/2019   \n",
      "1                   TOM THUMB - JUICE BAR         Routine      04/08/2020   \n",
      "2                    BROOKDALE WHITE ROCK         Routine      07/29/2020   \n",
      "3                   CHURCH'S CHICKEN #201         Routine      09/14/2020   \n",
      "4         PEAK PREPARATORY-PRIMARY SCHOOL         Routine      04/25/2017   \n",
      "...                                   ...             ...             ...   \n",
      "65460  7-ELEVEN CONVENIENCE STORE #38519A         Routine      08/24/2022   \n",
      "65461              TROPICAL SMOOTHIE CAFE         Routine      09/02/2022   \n",
      "65462                              ODELAY         Routine      08/23/2022   \n",
      "65463                        CK BILLIARDS         Routine      08/24/2022   \n",
      "65464   FLAGSHIP FOH #2053  SUITES PANTRY         Routine      05/23/2017   \n",
      "\n",
      "       Inspection Score  Street Number  Street Name  \\\n",
      "0                   100           3203  CAMP WISDOM   \n",
      "1                   100           2380        FIELD   \n",
      "2                    97           9271   WHITE ROCK   \n",
      "3                   100          10295     FERGUSON   \n",
      "4                    98           1474        ANNEX   \n",
      "...                 ...            ...          ...   \n",
      "65460                88           3435     COMMERCE   \n",
      "65461                91           5315   GREENVILLE   \n",
      "65462                89           5600       LOVERS   \n",
      "65463                84          19049        MARSH   \n",
      "65464                98           2500      VICTORY   \n",
      "\n",
      "                    Street Address Zip Code  \\\n",
      "0            3203 W CAMP WISDOM RD    75237   \n",
      "1                  2380 N FIELD ST    75021   \n",
      "2              9271 WHITE ROCK TRL    75238   \n",
      "3                10295 FERGUSON RD    75228   \n",
      "4                   1474 ANNEX AVE    75204   \n",
      "...                            ...      ...   \n",
      "65460             3435 COMMERCE ST    75226   \n",
      "65461     5315 GREENVILLE AVE #105    75206   \n",
      "65462        5600 W LOVERS LN #109    75209   \n",
      "65463          19049 MARSH LN #109    75252   \n",
      "65464  2500 VICTORY AVE FSHP #2053    75201   \n",
      "\n",
      "                               Violation Description - 1  \\\n",
      "0                                                    NaN   \n",
      "1                                                    NaN   \n",
      "2                                 *21 RFSM - Not On Site   \n",
      "3                                                    NaN   \n",
      "4                                 *21 RFSM - Not On Site   \n",
      "...                                                  ...   \n",
      "65460  *03 Food products not maintained at 135øF or a...   \n",
      "65461    *10 Q.A. PPM -  follow manufacturer's direction   \n",
      "65462                          *10 Clean Sight and Touch   \n",
      "65463  *07 Food safe, good condition, unadulterated, ...   \n",
      "65464                            *31 No soap at handsink   \n",
      "\n",
      "       Violation Points - 1  \\\n",
      "0                       NaN   \n",
      "1                       NaN   \n",
      "2                       2.0   \n",
      "3                       NaN   \n",
      "4                       2.0   \n",
      "...                     ...   \n",
      "65460                   3.0   \n",
      "65461                   3.0   \n",
      "65462                   3.0   \n",
      "65463                   3.0   \n",
      "65464                   2.0   \n",
      "\n",
      "                                    Violation Detail - 1  \\\n",
      "0                                                    NaN   \n",
      "1                                                    NaN   \n",
      "2      Sec. 17-2.2(c)(1)(D)      (c) Registered food ...   \n",
      "3                                                    NaN   \n",
      "4      Sec. 17-2.2(c)(1)(D)      (c) Registered food ...   \n",
      "...                                                  ...   \n",
      "65460  228.75  Food.          Time and temperature co...   \n",
      "65461  228.111  Equipment, Utensils, and Linens.     ...   \n",
      "65462  228.113  Equipment, Utensils, and Linens.     ...   \n",
      "65463  228.61  Food.         Condition safe, unadulte...   \n",
      "65464  228.175  Physical Facilities.          Handwas...   \n",
      "\n",
      "                               Violation Description - 2  \\\n",
      "0                                                    NaN   \n",
      "1                                                    NaN   \n",
      "2                     *42 Dirty nonfood contact surfaces   \n",
      "3                                                    NaN   \n",
      "4                                                    NaN   \n",
      "...                                                  ...   \n",
      "65460  *07 Food safe, good condition, unadulterated, ...   \n",
      "65461                            *20 Grease Trap Tickets   \n",
      "65462  *31 Handwashing lavatory - used for other purpose   \n",
      "65463  *35 Eating food, chewing gum, drinking beverag...   \n",
      "65464                                                NaN   \n",
      "\n",
      "       Violation Points - 2  \\\n",
      "0                       NaN   \n",
      "1                       NaN   \n",
      "2                       1.0   \n",
      "3                       NaN   \n",
      "4                       NaN   \n",
      "...                     ...   \n",
      "65460                   3.0   \n",
      "65461                   3.0   \n",
      "65462                   2.0   \n",
      "65463                   1.0   \n",
      "65464                   NaN   \n",
      "\n",
      "                                    Violation Detail - 2 Inspection Month  \\\n",
      "0                                                    NaN         Oct 2019   \n",
      "1                                                    NaN         Apr 2020   \n",
      "2      228.113  Equipment, Utensils, and Linens.     ...         Jul 2020   \n",
      "3                                                    NaN         Sep 2020   \n",
      "4                                                    NaN         Apr 2017   \n",
      "...                                                  ...              ...   \n",
      "65460  228.61  Food.         Condition safe, unadulte...         Aug 2022   \n",
      "65461  Ch.19-126.5(c))     A producer shall sign the ...         Sep 2022   \n",
      "65462  228.149  Water, Plumbing, and Waste.          ...         Aug 2022   \n",
      "65463  228.42  Management and Personnel.        Food ...         Aug 2022   \n",
      "65464                                                NaN         May 2017   \n",
      "\n",
      "      Inspection Year                                  Lat Long Location  \n",
      "0              FY2020     3203 W CAMP WISDOM RD\\n(32.662584, -96.873446)  \n",
      "1              FY2020            2380 N FIELD ST\\n(32.78904, -96.806882)  \n",
      "2              FY2020       9271 WHITE ROCK TRL\\n(32.872855, -96.728807)  \n",
      "3              FY2020          10295 FERGUSON RD\\n(32.83427, -96.673672)  \n",
      "4              FY2017               1474 ANNEX AVE\\n(32.80208, -96.7769)  \n",
      "...               ...                                                ...  \n",
      "65460          FY2022           3435 COMMERCE ST\\n(32.78486, -96.774724)  \n",
      "65461          FY2022   5315 GREENVILLE AVE #105\\n(32.851769, -96.76984)  \n",
      "65462          FY2022      5600 W LOVERS LN #109\\n(32.851172, -96.81632)  \n",
      "65463          FY2022       19049 MARSH LN #109\\n(33.010785, -96.857359)  \n",
      "65464          FY2017  2500 VICTORY AVE FSHP #2053\\n(32.79008, -96.81...  \n",
      "\n",
      "[65465 rows x 17 columns]\n"
     ]
    }
   ],
   "source": [
    "#Removing columns with 80% of null values\n",
    "limitPer = len(df) * .80\n",
    "df = df.dropna(thresh=limitPer, axis=1)\n",
    "print(df)"
   ]
  },
  {
   "cell_type": "code",
   "execution_count": 8,
   "id": "4afb8c2d",
   "metadata": {
    "scrolled": true
   },
   "outputs": [
    {
     "data": {
      "text/html": [
       "<div>\n",
       "<style scoped>\n",
       "    .dataframe tbody tr th:only-of-type {\n",
       "        vertical-align: middle;\n",
       "    }\n",
       "\n",
       "    .dataframe tbody tr th {\n",
       "        vertical-align: top;\n",
       "    }\n",
       "\n",
       "    .dataframe thead th {\n",
       "        text-align: right;\n",
       "    }\n",
       "</style>\n",
       "<table border=\"1\" class=\"dataframe\">\n",
       "  <thead>\n",
       "    <tr style=\"text-align: right;\">\n",
       "      <th></th>\n",
       "      <th>Restaurant Name</th>\n",
       "      <th>Inspection Type</th>\n",
       "      <th>Inspection Date</th>\n",
       "      <th>Inspection Score</th>\n",
       "      <th>Street Number</th>\n",
       "      <th>Street Name</th>\n",
       "      <th>Street Address</th>\n",
       "      <th>Zip Code</th>\n",
       "      <th>Violation Description - 1</th>\n",
       "      <th>Violation Points - 1</th>\n",
       "      <th>Violation Detail - 1</th>\n",
       "      <th>Violation Description - 2</th>\n",
       "      <th>Violation Points - 2</th>\n",
       "      <th>Violation Detail - 2</th>\n",
       "      <th>Inspection Month</th>\n",
       "      <th>Inspection Year</th>\n",
       "      <th>Lat Long Location</th>\n",
       "    </tr>\n",
       "  </thead>\n",
       "  <tbody>\n",
       "    <tr>\n",
       "      <th>0</th>\n",
       "      <td>MICKLE CHICKEN</td>\n",
       "      <td>Routine</td>\n",
       "      <td>10/30/2019</td>\n",
       "      <td>100</td>\n",
       "      <td>3203</td>\n",
       "      <td>CAMP WISDOM</td>\n",
       "      <td>3203 W CAMP WISDOM RD</td>\n",
       "      <td>75237</td>\n",
       "      <td>NaN</td>\n",
       "      <td>NaN</td>\n",
       "      <td>NaN</td>\n",
       "      <td>NaN</td>\n",
       "      <td>NaN</td>\n",
       "      <td>NaN</td>\n",
       "      <td>Oct 2019</td>\n",
       "      <td>FY2020</td>\n",
       "      <td>3203 W CAMP WISDOM RD\\n(32.662584, -96.873446)</td>\n",
       "    </tr>\n",
       "    <tr>\n",
       "      <th>1</th>\n",
       "      <td>TOM THUMB - JUICE BAR</td>\n",
       "      <td>Routine</td>\n",
       "      <td>04/08/2020</td>\n",
       "      <td>100</td>\n",
       "      <td>2380</td>\n",
       "      <td>FIELD</td>\n",
       "      <td>2380 N FIELD ST</td>\n",
       "      <td>75021</td>\n",
       "      <td>NaN</td>\n",
       "      <td>NaN</td>\n",
       "      <td>NaN</td>\n",
       "      <td>NaN</td>\n",
       "      <td>NaN</td>\n",
       "      <td>NaN</td>\n",
       "      <td>Apr 2020</td>\n",
       "      <td>FY2020</td>\n",
       "      <td>2380 N FIELD ST\\n(32.78904, -96.806882)</td>\n",
       "    </tr>\n",
       "    <tr>\n",
       "      <th>2</th>\n",
       "      <td>BROOKDALE WHITE ROCK</td>\n",
       "      <td>Routine</td>\n",
       "      <td>07/29/2020</td>\n",
       "      <td>97</td>\n",
       "      <td>9271</td>\n",
       "      <td>WHITE ROCK</td>\n",
       "      <td>9271 WHITE ROCK TRL</td>\n",
       "      <td>75238</td>\n",
       "      <td>*21 RFSM - Not On Site</td>\n",
       "      <td>2.0</td>\n",
       "      <td>Sec. 17-2.2(c)(1)(D)      (c) Registered food ...</td>\n",
       "      <td>*42 Dirty nonfood contact surfaces</td>\n",
       "      <td>1.0</td>\n",
       "      <td>228.113  Equipment, Utensils, and Linens.     ...</td>\n",
       "      <td>Jul 2020</td>\n",
       "      <td>FY2020</td>\n",
       "      <td>9271 WHITE ROCK TRL\\n(32.872855, -96.728807)</td>\n",
       "    </tr>\n",
       "    <tr>\n",
       "      <th>3</th>\n",
       "      <td>CHURCH'S CHICKEN #201</td>\n",
       "      <td>Routine</td>\n",
       "      <td>09/14/2020</td>\n",
       "      <td>100</td>\n",
       "      <td>10295</td>\n",
       "      <td>FERGUSON</td>\n",
       "      <td>10295 FERGUSON RD</td>\n",
       "      <td>75228</td>\n",
       "      <td>NaN</td>\n",
       "      <td>NaN</td>\n",
       "      <td>NaN</td>\n",
       "      <td>NaN</td>\n",
       "      <td>NaN</td>\n",
       "      <td>NaN</td>\n",
       "      <td>Sep 2020</td>\n",
       "      <td>FY2020</td>\n",
       "      <td>10295 FERGUSON RD\\n(32.83427, -96.673672)</td>\n",
       "    </tr>\n",
       "    <tr>\n",
       "      <th>4</th>\n",
       "      <td>PEAK PREPARATORY-PRIMARY SCHOOL</td>\n",
       "      <td>Routine</td>\n",
       "      <td>04/25/2017</td>\n",
       "      <td>98</td>\n",
       "      <td>1474</td>\n",
       "      <td>ANNEX</td>\n",
       "      <td>1474 ANNEX AVE</td>\n",
       "      <td>75204</td>\n",
       "      <td>*21 RFSM - Not On Site</td>\n",
       "      <td>2.0</td>\n",
       "      <td>Sec. 17-2.2(c)(1)(D)      (c) Registered food ...</td>\n",
       "      <td>NaN</td>\n",
       "      <td>NaN</td>\n",
       "      <td>NaN</td>\n",
       "      <td>Apr 2017</td>\n",
       "      <td>FY2017</td>\n",
       "      <td>1474 ANNEX AVE\\n(32.80208, -96.7769)</td>\n",
       "    </tr>\n",
       "  </tbody>\n",
       "</table>\n",
       "</div>"
      ],
      "text/plain": [
       "                   Restaurant Name Inspection Type Inspection Date  \\\n",
       "0                   MICKLE CHICKEN         Routine      10/30/2019   \n",
       "1            TOM THUMB - JUICE BAR         Routine      04/08/2020   \n",
       "2             BROOKDALE WHITE ROCK         Routine      07/29/2020   \n",
       "3            CHURCH'S CHICKEN #201         Routine      09/14/2020   \n",
       "4  PEAK PREPARATORY-PRIMARY SCHOOL         Routine      04/25/2017   \n",
       "\n",
       "   Inspection Score  Street Number  Street Name         Street Address  \\\n",
       "0               100           3203  CAMP WISDOM  3203 W CAMP WISDOM RD   \n",
       "1               100           2380        FIELD        2380 N FIELD ST   \n",
       "2                97           9271   WHITE ROCK    9271 WHITE ROCK TRL   \n",
       "3               100          10295     FERGUSON      10295 FERGUSON RD   \n",
       "4                98           1474        ANNEX         1474 ANNEX AVE   \n",
       "\n",
       "  Zip Code Violation Description - 1  Violation Points - 1  \\\n",
       "0    75237                       NaN                   NaN   \n",
       "1    75021                       NaN                   NaN   \n",
       "2    75238    *21 RFSM - Not On Site                   2.0   \n",
       "3    75228                       NaN                   NaN   \n",
       "4    75204    *21 RFSM - Not On Site                   2.0   \n",
       "\n",
       "                                Violation Detail - 1  \\\n",
       "0                                                NaN   \n",
       "1                                                NaN   \n",
       "2  Sec. 17-2.2(c)(1)(D)      (c) Registered food ...   \n",
       "3                                                NaN   \n",
       "4  Sec. 17-2.2(c)(1)(D)      (c) Registered food ...   \n",
       "\n",
       "            Violation Description - 2  Violation Points - 2  \\\n",
       "0                                 NaN                   NaN   \n",
       "1                                 NaN                   NaN   \n",
       "2  *42 Dirty nonfood contact surfaces                   1.0   \n",
       "3                                 NaN                   NaN   \n",
       "4                                 NaN                   NaN   \n",
       "\n",
       "                                Violation Detail - 2 Inspection Month  \\\n",
       "0                                                NaN         Oct 2019   \n",
       "1                                                NaN         Apr 2020   \n",
       "2  228.113  Equipment, Utensils, and Linens.     ...         Jul 2020   \n",
       "3                                                NaN         Sep 2020   \n",
       "4                                                NaN         Apr 2017   \n",
       "\n",
       "  Inspection Year                               Lat Long Location  \n",
       "0          FY2020  3203 W CAMP WISDOM RD\\n(32.662584, -96.873446)  \n",
       "1          FY2020         2380 N FIELD ST\\n(32.78904, -96.806882)  \n",
       "2          FY2020    9271 WHITE ROCK TRL\\n(32.872855, -96.728807)  \n",
       "3          FY2020       10295 FERGUSON RD\\n(32.83427, -96.673672)  \n",
       "4          FY2017            1474 ANNEX AVE\\n(32.80208, -96.7769)  "
      ]
     },
     "execution_count": 8,
     "metadata": {},
     "output_type": "execute_result"
    }
   ],
   "source": [
    "df.head()"
   ]
  },
  {
   "cell_type": "code",
   "execution_count": 9,
   "id": "494c597e",
   "metadata": {},
   "outputs": [
    {
     "data": {
      "text/plain": [
       "(65465, 17)"
      ]
     },
     "execution_count": 9,
     "metadata": {},
     "output_type": "execute_result"
    }
   ],
   "source": [
    "df.shape"
   ]
  },
  {
   "cell_type": "code",
   "execution_count": 10,
   "id": "65047911",
   "metadata": {},
   "outputs": [
    {
     "data": {
      "text/plain": [
       "Restaurant Name                 11\n",
       "Inspection Type                  0\n",
       "Inspection Date                  0\n",
       "Inspection Score                 0\n",
       "Street Number                    0\n",
       "Street Name                      0\n",
       "Street Address                   0\n",
       "Zip Code                         0\n",
       "Violation Description - 1     5309\n",
       "Violation Points - 1          5309\n",
       "Violation Detail - 1          5755\n",
       "Violation Description - 2    11470\n",
       "Violation Points - 2         11470\n",
       "Violation Detail - 2         11921\n",
       "Inspection Month                 0\n",
       "Inspection Year                  0\n",
       "Lat Long Location                0\n",
       "dtype: int64"
      ]
     },
     "execution_count": 10,
     "metadata": {},
     "output_type": "execute_result"
    }
   ],
   "source": [
    "df.isnull().sum()"
   ]
  },
  {
   "cell_type": "code",
   "execution_count": 11,
   "id": "4c7eef5a",
   "metadata": {},
   "outputs": [
    {
     "data": {
      "text/plain": [
       "['Restaurant Name',\n",
       " 'Inspection Type',\n",
       " 'Inspection Date',\n",
       " 'Street Name',\n",
       " 'Street Address',\n",
       " 'Zip Code',\n",
       " 'Violation Description - 1',\n",
       " 'Violation Detail - 1',\n",
       " 'Violation Description - 2',\n",
       " 'Violation Detail - 2',\n",
       " 'Inspection Month',\n",
       " 'Inspection Year',\n",
       " 'Lat Long Location']"
      ]
     },
     "execution_count": 11,
     "metadata": {},
     "output_type": "execute_result"
    }
   ],
   "source": [
    "# we are figuring out the columns with object \n",
    "categorical_columns=[feature for feature in df.columns if df[feature].dtypes=='O']\n",
    "categorical_columns"
   ]
  },
  {
   "cell_type": "code",
   "execution_count": 12,
   "id": "2d49e80f",
   "metadata": {},
   "outputs": [
    {
     "name": "stdout",
     "output_type": "stream",
     "text": [
      "The feature is Restaurant Name and number of categories are 8432\n",
      "The feature is Inspection Type and number of categories are 3\n",
      "The feature is Inspection Date and number of categories are 1821\n",
      "The feature is Street Name and number of categories are 808\n",
      "The feature is Street Address and number of categories are 7416\n",
      "The feature is Zip Code and number of categories are 148\n",
      "The feature is Violation Description - 1 and number of categories are 608\n",
      "The feature is Violation Detail - 1 and number of categories are 626\n",
      "The feature is Violation Description - 2 and number of categories are 594\n",
      "The feature is Violation Detail - 2 and number of categories are 607\n",
      "The feature is Inspection Month and number of categories are 72\n",
      "The feature is Inspection Year and number of categories are 6\n",
      "The feature is Lat Long Location and number of categories are 9861\n"
     ]
    }
   ],
   "source": [
    "# Finding the unique values in all columns as a count\n",
    "for feature in categorical_columns:\n",
    "    print('The feature is {} and number of categories are {}'.format(feature,len(df[feature].unique())))"
   ]
  },
  {
   "cell_type": "markdown",
   "id": "8aec3c13",
   "metadata": {},
   "source": [
    "Filling out all the null values"
   ]
  },
  {
   "cell_type": "code",
   "execution_count": 13,
   "id": "5aada3d4",
   "metadata": {},
   "outputs": [],
   "source": [
    "columns=[feature for feature in df.columns if df[feature].isnull().sum()>1 and df[feature].dtypes=='O']"
   ]
  },
  {
   "cell_type": "code",
   "execution_count": 14,
   "id": "61bd40e6",
   "metadata": {},
   "outputs": [],
   "source": [
    "def replace_new_feature(df,columns):\n",
    "    data=df.copy()\n",
    "    data[columns]=data[columns].fillna('Unknown')\n",
    "    return data\n",
    "\n",
    "df=replace_new_feature(df,columns)"
   ]
  },
  {
   "cell_type": "code",
   "execution_count": 15,
   "id": "313a9151",
   "metadata": {},
   "outputs": [],
   "source": [
    "df['Violation Points - 1'].fillna('NA',inplace=True)\n",
    "df['Violation Points - 2'].fillna('NA',inplace=True)"
   ]
  },
  {
   "cell_type": "code",
   "execution_count": 16,
   "id": "0cddadf5",
   "metadata": {},
   "outputs": [
    {
     "data": {
      "text/plain": [
       "Restaurant Name              0\n",
       "Inspection Type              0\n",
       "Inspection Date              0\n",
       "Inspection Score             0\n",
       "Street Number                0\n",
       "Street Name                  0\n",
       "Street Address               0\n",
       "Zip Code                     0\n",
       "Violation Description - 1    0\n",
       "Violation Points - 1         0\n",
       "Violation Detail - 1         0\n",
       "Violation Description - 2    0\n",
       "Violation Points - 2         0\n",
       "Violation Detail - 2         0\n",
       "Inspection Month             0\n",
       "Inspection Year              0\n",
       "Lat Long Location            0\n",
       "dtype: int64"
      ]
     },
     "execution_count": 16,
     "metadata": {},
     "output_type": "execute_result"
    }
   ],
   "source": [
    "df.isnull().sum()"
   ]
  },
  {
   "cell_type": "markdown",
   "id": "456d435f",
   "metadata": {},
   "source": [
    "# Data Patterns"
   ]
  },
  {
   "cell_type": "markdown",
   "id": "cef04547",
   "metadata": {},
   "source": [
    "Finding minimum and maximum Inspection Score"
   ]
  },
  {
   "cell_type": "code",
   "execution_count": 18,
   "id": "44673c64",
   "metadata": {},
   "outputs": [
    {
     "name": "stdout",
     "output_type": "stream",
     "text": [
      "Maximum Inspection score\n",
      "100\n",
      "Minimum Inspection score\n",
      "44\n"
     ]
    }
   ],
   "source": [
    "maximum = df['Inspection Score'].max()\n",
    "\n",
    "print(\"Maximum Inspection score\")\n",
    "print(maximum)\n",
    "\n",
    "minimum = df['Inspection Score'].min()\n",
    "\n",
    "print(\"Minimum Inspection score\")\n",
    "print(minimum)"
   ]
  },
  {
   "cell_type": "markdown",
   "id": "d6e24c88",
   "metadata": {},
   "source": [
    "Average Inspection score of restaurants by considering Inspection year and restaurant."
   ]
  },
  {
   "cell_type": "code",
   "execution_count": 19,
   "id": "b86c76a5",
   "metadata": {
    "scrolled": true
   },
   "outputs": [
    {
     "data": {
      "text/html": [
       "<div>\n",
       "<style scoped>\n",
       "    .dataframe tbody tr th:only-of-type {\n",
       "        vertical-align: middle;\n",
       "    }\n",
       "\n",
       "    .dataframe tbody tr th {\n",
       "        vertical-align: top;\n",
       "    }\n",
       "\n",
       "    .dataframe thead th {\n",
       "        text-align: right;\n",
       "    }\n",
       "</style>\n",
       "<table border=\"1\" class=\"dataframe\">\n",
       "  <thead>\n",
       "    <tr style=\"text-align: right;\">\n",
       "      <th></th>\n",
       "      <th></th>\n",
       "      <th>Inspection Score</th>\n",
       "      <th>Street Number</th>\n",
       "    </tr>\n",
       "    <tr>\n",
       "      <th>Inspection Year</th>\n",
       "      <th>Restaurant Name</th>\n",
       "      <th></th>\n",
       "      <th></th>\n",
       "    </tr>\n",
       "  </thead>\n",
       "  <tbody>\n",
       "    <tr>\n",
       "      <th rowspan=\"5\" valign=\"top\">FY2017</th>\n",
       "      <th>\"LET'S DO LUNCH\"</th>\n",
       "      <td>89.000000</td>\n",
       "      <td>1720.0</td>\n",
       "    </tr>\n",
       "    <tr>\n",
       "      <th>#1 CHAMPION BILLIARD &amp; GAMES</th>\n",
       "      <td>95.000000</td>\n",
       "      <td>9530.0</td>\n",
       "    </tr>\n",
       "    <tr>\n",
       "      <th>$ STUFF &amp; MORE</th>\n",
       "      <td>90.000000</td>\n",
       "      <td>4702.0</td>\n",
       "    </tr>\n",
       "    <tr>\n",
       "      <th>039 NIGHT CLUB</th>\n",
       "      <td>94.500000</td>\n",
       "      <td>1820.0</td>\n",
       "    </tr>\n",
       "    <tr>\n",
       "      <th>1 ABC BEER &amp; WINE</th>\n",
       "      <td>96.000000</td>\n",
       "      <td>9625.0</td>\n",
       "    </tr>\n",
       "    <tr>\n",
       "      <th>...</th>\n",
       "      <th>...</th>\n",
       "      <td>...</td>\n",
       "      <td>...</td>\n",
       "    </tr>\n",
       "    <tr>\n",
       "      <th rowspan=\"5\" valign=\"top\">FY2022</th>\n",
       "      <th>ZIZIKI'S</th>\n",
       "      <td>86.000000</td>\n",
       "      <td>11661.0</td>\n",
       "    </tr>\n",
       "    <tr>\n",
       "      <th>ZODIAC ROOM</th>\n",
       "      <td>100.000000</td>\n",
       "      <td>400.0</td>\n",
       "    </tr>\n",
       "    <tr>\n",
       "      <th>ZOE'S KITCHEN</th>\n",
       "      <td>93.333333</td>\n",
       "      <td>5920.0</td>\n",
       "    </tr>\n",
       "    <tr>\n",
       "      <th>ZRG CONCEPTS</th>\n",
       "      <td>95.500000</td>\n",
       "      <td>2505.0</td>\n",
       "    </tr>\n",
       "    <tr>\n",
       "      <th>iFRATELLI PIZZA</th>\n",
       "      <td>83.000000</td>\n",
       "      <td>1001.0</td>\n",
       "    </tr>\n",
       "  </tbody>\n",
       "</table>\n",
       "<p>34922 rows × 2 columns</p>\n",
       "</div>"
      ],
      "text/plain": [
       "                                              Inspection Score  Street Number\n",
       "Inspection Year Restaurant Name                                              \n",
       "FY2017          \"LET'S DO LUNCH\"                     89.000000         1720.0\n",
       "                #1 CHAMPION BILLIARD & GAMES         95.000000         9530.0\n",
       "                $ STUFF & MORE                       90.000000         4702.0\n",
       "                039 NIGHT CLUB                       94.500000         1820.0\n",
       "                1 ABC BEER & WINE                    96.000000         9625.0\n",
       "...                                                        ...            ...\n",
       "FY2022          ZIZIKI'S                             86.000000        11661.0\n",
       "                ZODIAC ROOM                         100.000000          400.0\n",
       "                ZOE'S KITCHEN                        93.333333         5920.0\n",
       "                ZRG CONCEPTS                         95.500000         2505.0\n",
       "                iFRATELLI PIZZA                      83.000000         1001.0\n",
       "\n",
       "[34922 rows x 2 columns]"
      ]
     },
     "execution_count": 19,
     "metadata": {},
     "output_type": "execute_result"
    }
   ],
   "source": [
    "restaurants = df.groupby(['Inspection Year', 'Restaurant Name']).mean()\n",
    "restaurants"
   ]
  },
  {
   "cell_type": "markdown",
   "id": "603e7fd0",
   "metadata": {},
   "source": [
    "Average Inspection score of Year wise."
   ]
  },
  {
   "cell_type": "code",
   "execution_count": 20,
   "id": "aadc55af",
   "metadata": {},
   "outputs": [
    {
     "data": {
      "text/html": [
       "<div>\n",
       "<style scoped>\n",
       "    .dataframe tbody tr th:only-of-type {\n",
       "        vertical-align: middle;\n",
       "    }\n",
       "\n",
       "    .dataframe tbody tr th {\n",
       "        vertical-align: top;\n",
       "    }\n",
       "\n",
       "    .dataframe thead th {\n",
       "        text-align: right;\n",
       "    }\n",
       "</style>\n",
       "<table border=\"1\" class=\"dataframe\">\n",
       "  <thead>\n",
       "    <tr style=\"text-align: right;\">\n",
       "      <th></th>\n",
       "      <th>Inspection Score</th>\n",
       "      <th>Street Number</th>\n",
       "    </tr>\n",
       "    <tr>\n",
       "      <th>Inspection Year</th>\n",
       "      <th></th>\n",
       "      <th></th>\n",
       "    </tr>\n",
       "  </thead>\n",
       "  <tbody>\n",
       "    <tr>\n",
       "      <th>FY2017</th>\n",
       "      <td>90.266310</td>\n",
       "      <td>5533.320018</td>\n",
       "    </tr>\n",
       "    <tr>\n",
       "      <th>FY2018</th>\n",
       "      <td>90.349570</td>\n",
       "      <td>5414.336109</td>\n",
       "    </tr>\n",
       "    <tr>\n",
       "      <th>FY2019</th>\n",
       "      <td>90.414654</td>\n",
       "      <td>5445.863428</td>\n",
       "    </tr>\n",
       "    <tr>\n",
       "      <th>FY2020</th>\n",
       "      <td>91.114999</td>\n",
       "      <td>5664.734140</td>\n",
       "    </tr>\n",
       "    <tr>\n",
       "      <th>FY2021</th>\n",
       "      <td>91.252415</td>\n",
       "      <td>5640.047864</td>\n",
       "    </tr>\n",
       "    <tr>\n",
       "      <th>FY2022</th>\n",
       "      <td>91.371271</td>\n",
       "      <td>5411.314043</td>\n",
       "    </tr>\n",
       "  </tbody>\n",
       "</table>\n",
       "</div>"
      ],
      "text/plain": [
       "                 Inspection Score  Street Number\n",
       "Inspection Year                                 \n",
       "FY2017                  90.266310    5533.320018\n",
       "FY2018                  90.349570    5414.336109\n",
       "FY2019                  90.414654    5445.863428\n",
       "FY2020                  91.114999    5664.734140\n",
       "FY2021                  91.252415    5640.047864\n",
       "FY2022                  91.371271    5411.314043"
      ]
     },
     "execution_count": 20,
     "metadata": {},
     "output_type": "execute_result"
    }
   ],
   "source": [
    "restaurants_by_year = df.groupby(['Inspection Year']).mean().sort_values(by='Inspection Year')\n",
    "restaurants_by_year\n"
   ]
  },
  {
   "cell_type": "markdown",
   "id": "481a36be",
   "metadata": {},
   "source": [
    "Count of restaurants by inspection score"
   ]
  },
  {
   "cell_type": "code",
   "execution_count": 20,
   "id": "e072c4d3",
   "metadata": {},
   "outputs": [
    {
     "data": {
      "text/plain": [
       "100    5295\n",
       "97     4311\n",
       "95     3960\n",
       "94     3857\n",
       "96     3773\n",
       "90     3683\n",
       "92     3528\n",
       "93     3497\n",
       "80     3487\n",
       "91     3327\n",
       "98     3254\n",
       "88     2663\n",
       "89     2593\n",
       "99     2488\n",
       "87     2314\n",
       "86     2187\n",
       "85     2094\n",
       "84     1787\n",
       "83     1566\n",
       "81     1562\n",
       "82     1534\n",
       "70      382\n",
       "76      251\n",
       "75      239\n",
       "74      235\n",
       "77      224\n",
       "72      215\n",
       "78      202\n",
       "73      195\n",
       "71      171\n",
       "79      135\n",
       "69       61\n",
       "66       56\n",
       "68       55\n",
       "64       48\n",
       "67       44\n",
       "65       43\n",
       "63       32\n",
       "61       31\n",
       "60       29\n",
       "62       28\n",
       "59        6\n",
       "57        6\n",
       "58        5\n",
       "0         2\n",
       "54        2\n",
       "51        2\n",
       "53        1\n",
       "50        1\n",
       "44        1\n",
       "52        1\n",
       "56        1\n",
       "55        1\n",
       "Name: Inspection Score, dtype: int64"
      ]
     },
     "execution_count": 20,
     "metadata": {},
     "output_type": "execute_result"
    }
   ],
   "source": [
    "good_restaurants = df['Inspection Score'].value_counts()\n",
    "good_restaurants"
   ]
  },
  {
   "cell_type": "code",
   "execution_count": 21,
   "id": "80e9fc5a",
   "metadata": {},
   "outputs": [
    {
     "data": {
      "text/html": [
       "<div>\n",
       "<style scoped>\n",
       "    .dataframe tbody tr th:only-of-type {\n",
       "        vertical-align: middle;\n",
       "    }\n",
       "\n",
       "    .dataframe tbody tr th {\n",
       "        vertical-align: top;\n",
       "    }\n",
       "\n",
       "    .dataframe thead th {\n",
       "        text-align: right;\n",
       "    }\n",
       "</style>\n",
       "<table border=\"1\" class=\"dataframe\">\n",
       "  <thead>\n",
       "    <tr style=\"text-align: right;\">\n",
       "      <th></th>\n",
       "      <th>Inspection Score</th>\n",
       "      <th>Street Number</th>\n",
       "    </tr>\n",
       "    <tr>\n",
       "      <th>Violation Description - 1</th>\n",
       "      <th></th>\n",
       "      <th></th>\n",
       "    </tr>\n",
       "  </thead>\n",
       "  <tbody>\n",
       "    <tr>\n",
       "      <th>*21 PIC ensures food properly and rapidly cooled</th>\n",
       "      <td>69.000000</td>\n",
       "      <td>2610.000000</td>\n",
       "    </tr>\n",
       "    <tr>\n",
       "      <th>*14  When to wash after handling animals/aquatics</th>\n",
       "      <td>70.000000</td>\n",
       "      <td>4914.000000</td>\n",
       "    </tr>\n",
       "    <tr>\n",
       "      <th>*25 Non PFH beverages container may be refilled</th>\n",
       "      <td>72.000000</td>\n",
       "      <td>8670.000000</td>\n",
       "    </tr>\n",
       "    <tr>\n",
       "      <th>*31 Handwashing lavatory - not adjacent to toilet</th>\n",
       "      <td>72.000000</td>\n",
       "      <td>1004.000000</td>\n",
       "    </tr>\n",
       "    <tr>\n",
       "      <th>*20 Backflow Device Direct Connection</th>\n",
       "      <td>73.000000</td>\n",
       "      <td>10920.000000</td>\n",
       "    </tr>\n",
       "    <tr>\n",
       "      <th>...</th>\n",
       "      <td>...</td>\n",
       "      <td>...</td>\n",
       "    </tr>\n",
       "    <tr>\n",
       "      <th>*37 Outdoor Servicing Areas, Overhead Protection</th>\n",
       "      <td>99.000000</td>\n",
       "      <td>7508.000000</td>\n",
       "    </tr>\n",
       "    <tr>\n",
       "      <th>*46 Toilets/urinals shall be provided:minimum number</th>\n",
       "      <td>99.000000</td>\n",
       "      <td>12475.000000</td>\n",
       "    </tr>\n",
       "    <tr>\n",
       "      <th>*39 Baking equipment shall be cleaned every 24 hours</th>\n",
       "      <td>99.000000</td>\n",
       "      <td>8008.000000</td>\n",
       "    </tr>\n",
       "    <tr>\n",
       "      <th>*38 Time/temperature controlled for safety food, slacking. Food temperature at 5 degrees Celsius (41</th>\n",
       "      <td>99.000000</td>\n",
       "      <td>1811.000000</td>\n",
       "    </tr>\n",
       "    <tr>\n",
       "      <th>Unknown</th>\n",
       "      <td>99.937465</td>\n",
       "      <td>5320.501789</td>\n",
       "    </tr>\n",
       "  </tbody>\n",
       "</table>\n",
       "<p>608 rows × 2 columns</p>\n",
       "</div>"
      ],
      "text/plain": [
       "                                                    Inspection Score  \\\n",
       "Violation Description - 1                                              \n",
       "*21 PIC ensures food properly and rapidly cooled           69.000000   \n",
       "*14  When to wash after handling animals/aquatics          70.000000   \n",
       "*25 Non PFH beverages container may be refilled            72.000000   \n",
       "*31 Handwashing lavatory - not adjacent to toilet          72.000000   \n",
       "*20 Backflow Device Direct Connection                      73.000000   \n",
       "...                                                              ...   \n",
       "*37 Outdoor Servicing Areas, Overhead Protection           99.000000   \n",
       "*46 Toilets/urinals shall be provided:minimum n...         99.000000   \n",
       "*39 Baking equipment shall be cleaned every 24 ...         99.000000   \n",
       "*38 Time/temperature controlled for safety food...         99.000000   \n",
       "Unknown                                                    99.937465   \n",
       "\n",
       "                                                    Street Number  \n",
       "Violation Description - 1                                          \n",
       "*21 PIC ensures food properly and rapidly cooled      2610.000000  \n",
       "*14  When to wash after handling animals/aquatics     4914.000000  \n",
       "*25 Non PFH beverages container may be refilled       8670.000000  \n",
       "*31 Handwashing lavatory - not adjacent to toilet     1004.000000  \n",
       "*20 Backflow Device Direct Connection                10920.000000  \n",
       "...                                                           ...  \n",
       "*37 Outdoor Servicing Areas, Overhead Protection      7508.000000  \n",
       "*46 Toilets/urinals shall be provided:minimum n...   12475.000000  \n",
       "*39 Baking equipment shall be cleaned every 24 ...    8008.000000  \n",
       "*38 Time/temperature controlled for safety food...    1811.000000  \n",
       "Unknown                                               5320.501789  \n",
       "\n",
       "[608 rows x 2 columns]"
      ]
     },
     "execution_count": 21,
     "metadata": {},
     "output_type": "execute_result"
    }
   ],
   "source": [
    "\n",
    "df.groupby(['Violation Description - 1']).mean().sort_values(by='Inspection Score')\n",
    "\n"
   ]
  },
  {
   "cell_type": "markdown",
   "id": "2b10b5d6",
   "metadata": {},
   "source": [
    "# Visualizations"
   ]
  },
  {
   "cell_type": "markdown",
   "id": "1442a8f4",
   "metadata": {},
   "source": [
    "We have noticed that the Inspection score has increased from financial year 2017 to 2022."
   ]
  },
  {
   "cell_type": "code",
   "execution_count": 22,
   "id": "28a70d37",
   "metadata": {},
   "outputs": [
    {
     "data": {
      "text/plain": [
       "<AxesSubplot:xlabel='Inspection Year', ylabel='Inspection Score'>"
      ]
     },
     "execution_count": 22,
     "metadata": {},
     "output_type": "execute_result"
    },
    {
     "data": {
      "image/png": "[encoded data removed]",
      "text/plain": [
       "<Figure size 432x288 with 1 Axes>"
      ]
     },
     "metadata": {
      "needs_background": "light"
     },
     "output_type": "display_data"
    }
   ],
   "source": [
    "sns.lineplot(x=\"Inspection Year\", y=\"Inspection Score\", data=restaurants_by_year)"
   ]
  },
  {
   "cell_type": "markdown",
   "id": "3e826f98",
   "metadata": {},
   "source": [
    "Representing histogram with inspection score"
   ]
  },
  {
   "cell_type": "code",
   "execution_count": 23,
   "id": "3053ea16",
   "metadata": {},
   "outputs": [
    {
     "data": {
      "text/plain": [
       "<seaborn.axisgrid.FacetGrid at 0x1b80a3c00d0>"
      ]
     },
     "execution_count": 23,
     "metadata": {},
     "output_type": "execute_result"
    },
    {
     "data": {
      "image/png": "[encoded data removed]",
      "text/plain": [
       "<Figure size 360x360 with 1 Axes>"
      ]
     },
     "metadata": {
      "needs_background": "light"
     },
     "output_type": "display_data"
    }
   ],
   "source": [
    "import seaborn as sns\n",
    "inspection_score=df['Inspection Score']\n",
    "sns.displot(data=df,x='Inspection Score',kind='hist')"
   ]
  },
  {
   "cell_type": "markdown",
   "id": "c7d9770e",
   "metadata": {},
   "source": [
    "Bar Graph of Inspection score with Type of Inspection"
   ]
  },
  {
   "cell_type": "code",
   "execution_count": 23,
   "id": "1b01ce78",
   "metadata": {},
   "outputs": [
    {
     "data": {
      "image/png": "[encoded data removed]",
      "text/plain": [
       "<Figure size 432x288 with 1 Axes>"
      ]
     },
     "metadata": {
      "needs_background": "light"
     },
     "output_type": "display_data"
    }
   ],
   "source": [
    "df.groupby('Inspection Type')['Inspection Score'].median().plot.bar()\n",
    "plt.xlabel('Inspection Type')\n",
    "plt.ylabel('Inspection Score')\n",
    "plt.title('Inspection Type')\n",
    "plt.show()"
   ]
  },
  {
   "cell_type": "code",
   "execution_count": 24,
   "id": "18c6683a",
   "metadata": {},
   "outputs": [
    {
     "data": {
      "image/png": "[encoded data removed]",
      "text/plain": [
       "<Figure size 432x288 with 1 Axes>"
      ]
     },
     "metadata": {
      "needs_background": "light"
     },
     "output_type": "display_data"
    }
   ],
   "source": [
    "df.groupby('Inspection Year')['Inspection Score'].median().plot.bar()\n",
    "plt.xlabel('Inspection Year')\n",
    "plt.ylabel('Inspection Score')\n",
    "plt.title('Inspection Year')\n",
    "plt.show()"
   ]
  },
  {
   "cell_type": "code",
   "execution_count": 24,
   "id": "cd0af93b",
   "metadata": {},
   "outputs": [
    {
     "data": {
      "text/plain": [
       "<AxesSubplot:xlabel='Restaurant Name', ylabel='Inspection Score'>"
      ]
     },
     "execution_count": 24,
     "metadata": {},
     "output_type": "execute_result"
    },
    {
     "data": {
      "image/png": "[encoded data removed]",
      "text/plain": [
       "<Figure size 432x288 with 1 Axes>"
      ]
     },
     "metadata": {
      "needs_background": "light"
     },
     "output_type": "display_data"
    }
   ],
   "source": [
    "sns.lineplot(data = df, x = df['Restaurant Name'], y = df['Inspection Score'], hue = df['Inspection Type'])\n"
   ]
  },
  {
   "cell_type": "code",
   "execution_count": 25,
   "id": "ee64d2cd",
   "metadata": {},
   "outputs": [
    {
     "data": {
      "text/plain": [
       "<AxesSubplot:xlabel='Inspection Year', ylabel='Inspection Score'>"
      ]
     },
     "execution_count": 25,
     "metadata": {},
     "output_type": "execute_result"
    },
    {
     "data": {
      "image/png": "[encoded data removed]",
      "text/plain": [
       "<Figure size 432x288 with 1 Axes>"
      ]
     },
     "metadata": {
      "needs_background": "light"
     },
     "output_type": "display_data"
    }
   ],
   "source": [
    "\n",
    "sns.lineplot(data = df, x = df['Inspection Year'], y = df['Inspection Score'], hue = df['Inspection Type'])"
   ]
  },
  {
   "cell_type": "markdown",
   "id": "5cc0e61e",
   "metadata": {},
   "source": [
    "To visualize the correlation"
   ]
  },
  {
   "cell_type": "code",
   "execution_count": 18,
   "id": "374e0895",
   "metadata": {},
   "outputs": [
    {
     "data": {
      "text/html": [
       "<div>\n",
       "<style scoped>\n",
       "    .dataframe tbody tr th:only-of-type {\n",
       "        vertical-align: middle;\n",
       "    }\n",
       "\n",
       "    .dataframe tbody tr th {\n",
       "        vertical-align: top;\n",
       "    }\n",
       "\n",
       "    .dataframe thead th {\n",
       "        text-align: right;\n",
       "    }\n",
       "</style>\n",
       "<table border=\"1\" class=\"dataframe\">\n",
       "  <thead>\n",
       "    <tr style=\"text-align: right;\">\n",
       "      <th></th>\n",
       "      <th>Inspection Score</th>\n",
       "      <th>Street Number</th>\n",
       "    </tr>\n",
       "  </thead>\n",
       "  <tbody>\n",
       "    <tr>\n",
       "      <th>Inspection Score</th>\n",
       "      <td>1.0000</td>\n",
       "      <td>0.0268</td>\n",
       "    </tr>\n",
       "    <tr>\n",
       "      <th>Street Number</th>\n",
       "      <td>0.0268</td>\n",
       "      <td>1.0000</td>\n",
       "    </tr>\n",
       "  </tbody>\n",
       "</table>\n",
       "</div>"
      ],
      "text/plain": [
       "                  Inspection Score  Street Number\n",
       "Inspection Score            1.0000         0.0268\n",
       "Street Number               0.0268         1.0000"
      ]
     },
     "execution_count": 18,
     "metadata": {},
     "output_type": "execute_result"
    }
   ],
   "source": [
    "df.corr()"
   ]
  },
  {
   "cell_type": "markdown",
   "id": "6065ad3c",
   "metadata": {},
   "source": [
    "Categorical values versus Numerical values"
   ]
  },
  {
   "cell_type": "code",
   "execution_count": 27,
   "id": "80a546cf",
   "metadata": {},
   "outputs": [
    {
     "data": {
      "image/png": "[encoded data removed]",
      "text/plain": [
       "<Figure size 432x288 with 1 Axes>"
      ]
     },
     "metadata": {
      "needs_background": "light"
     },
     "output_type": "display_data"
    },
    {
     "data": {
      "image/png": "[encoded data removed]",
      "text/plain": [
       "<Figure size 432x288 with 1 Axes>"
      ]
     },
     "metadata": {
      "needs_background": "light"
     },
     "output_type": "display_data"
    },
    {
     "data": {
      "image/png": "[encoded data removed]",
      "text/plain": [
       "<Figure size 432x288 with 1 Axes>"
      ]
     },
     "metadata": {
      "needs_background": "light"
     },
     "output_type": "display_data"
    },
    {
     "data": {
      "image/png": "[encoded data removed]",
      "text/plain": [
       "<Figure size 432x288 with 1 Axes>"
      ]
     },
     "metadata": {
      "needs_background": "light"
     },
     "output_type": "display_data"
    },
    {
     "data": {
      "image/png": "[encoded data removed]",
      "text/plain": [
       "<Figure size 432x288 with 1 Axes>"
      ]
     },
     "metadata": {
      "needs_background": "light"
     },
     "output_type": "display_data"
    }
   ],
   "source": [
    "for feature in columns:\n",
    "    plt.scatter(df[feature],df['Inspection Score'])\n",
    "    plt.xlabel(feature)\n",
    "    plt.ylabel('Inspection Score')\n",
    "    plt.title(feature)\n",
    "    plt.show()"
   ]
  },
  {
   "cell_type": "code",
   "execution_count": 29,
   "id": "f83c23dd",
   "metadata": {},
   "outputs": [
    {
     "name": "stdout",
     "output_type": "stream",
     "text": [
      "Outliers from Z-scores method:  [0, 64, 65, 66, 69, 68, 63, 65, 62, 65, 68, 67, 69, 53, 64, 66, 0, 60, 62, 69, 61, 68, 69, 66, 60, 67, 66, 59, 63, 67, 60, 66, 60, 61, 66, 66, 67, 50, 69, 62, 59, 62, 68, 66, 62, 61, 69, 60, 67, 61, 57, 66, 66, 61, 68, 69, 64, 67, 61, 63, 68, 69, 69, 60, 61, 66, 64, 67, 64, 62, 66, 65, 69, 66, 61, 59, 65, 68, 61, 64, 63, 64, 65, 61, 61, 69, 68, 64, 66, 60, 62, 64, 69, 68, 68, 66, 69, 65, 67, 64, 67, 69, 66, 66, 67, 67, 63, 60, 68, 66, 68, 69, 67, 65, 60, 66, 64, 63, 63, 64, 60, 66, 60, 66, 64, 69, 60, 54, 68, 69, 66, 65, 69, 63, 58, 68, 65, 64, 67, 68, 65, 69, 65, 64, 67, 66, 65, 44, 61, 62, 67, 67, 68, 65, 68, 60, 63, 68, 69, 69, 63, 64, 60, 67, 69, 63, 58, 68, 69, 69, 60, 60, 67, 64, 68, 58, 64, 64, 57, 66, 65, 65, 65, 67, 60, 68, 65, 66, 65, 66, 67, 66, 69, 63, 65, 69, 67, 65, 64, 69, 62, 69, 62, 61, 60, 62, 52, 62, 61, 60, 59, 62, 68, 60, 68, 67, 64, 67, 62, 58, 66, 68, 67, 60, 63, 69, 67, 60, 66, 63, 65, 69, 69, 66, 66, 64, 66, 60, 56, 62, 68, 69, 63, 68, 65, 67, 65, 61, 68, 64, 65, 68, 69, 68, 67, 69, 66, 66, 61, 69, 68, 61, 64, 62, 65, 64, 61, 62, 62, 62, 64, 62, 66, 64, 68, 61, 57, 60, 63, 65, 63, 69, 66, 67, 63, 64, 69, 62, 62, 64, 67, 64, 68, 57, 60, 64, 65, 63, 68, 61, 68, 62, 69, 67, 65, 68, 69, 66, 69, 69, 69, 65, 67, 57, 67, 67, 59, 67, 61, 65, 64, 66, 62, 69, 61, 68, 61, 68, 63, 69, 63, 67, 66, 66, 68, 67, 64, 64, 64, 63, 66, 65, 68, 67, 67, 69, 68, 68, 69, 69, 60, 64, 65, 60, 69, 69, 62, 60, 63, 63, 62, 63, 66, 65, 65, 64, 66, 68, 51, 65, 68, 66, 66, 66, 61, 64, 69, 60, 67, 61, 66, 68, 61, 65, 68, 66, 65, 64, 68, 66, 67, 54, 61, 65, 63, 61, 64, 66, 68, 63, 66, 65, 55, 68, 64, 66, 69, 64, 68, 64, 67, 68, 68, 68, 64, 68, 69, 68, 62, 63, 65, 64, 61, 64, 69, 66, 61, 65, 67, 66, 63, 59, 61, 69, 63, 69, 63, 66, 64, 69, 69, 63, 57, 69, 68, 65, 69, 69, 51, 62, 66, 69, 58, 64, 67, 67]\n"
     ]
    }
   ],
   "source": [
    "outliers = []\n",
    "data=df['Inspection Score']\n",
    "def zscore(data):\n",
    "    thres = 3\n",
    "    mean = np.mean(data)\n",
    "    std = np.std(data)\n",
    "    for i in data:\n",
    "        z_score = (i-mean)/std\n",
    "        if (np.abs(z_score) > thres):\n",
    "            outliers.append(i)\n",
    "    return outliers\n",
    "sample_outliers = zscore(data)\n",
    "print(\"Outliers from Z-scores method: \", sample_outliers)"
   ]
  },
  {
   "cell_type": "code",
   "execution_count": 30,
   "id": "c35231de",
   "metadata": {},
   "outputs": [
    {
     "name": "stderr",
     "output_type": "stream",
     "text": [
      "C:\\softwares\\Anaconda\\lib\\site-packages\\seaborn\\_decorators.py:36: FutureWarning: Pass the following variable as a keyword arg: x. From version 0.12, the only valid positional argument will be `data`, and passing other arguments without an explicit keyword will result in an error or misinterpretation.\n",
      "  warnings.warn(\n"
     ]
    },
    {
     "data": {
      "text/plain": [
       "<AxesSubplot:xlabel='Inspection Score'>"
      ]
     },
     "execution_count": 30,
     "metadata": {},
     "output_type": "execute_result"
    },
    {
     "data": {
      "image/png": "[encoded data removed]",
      "text/plain": [
       "<Figure size 864x432 with 1 Axes>"
      ]
     },
     "metadata": {
      "needs_background": "light"
     },
     "output_type": "display_data"
    }
   ],
   "source": [
    "plt.figure(figsize=(12,6))\n",
    "sns.boxplot(df['Inspection Score'])"
   ]
  },
  {
   "cell_type": "code",
   "execution_count": 31,
   "id": "8132ef66",
   "metadata": {},
   "outputs": [
    {
     "data": {
      "text/html": [
       "<div>\n",
       "<style scoped>\n",
       "    .dataframe tbody tr th:only-of-type {\n",
       "        vertical-align: middle;\n",
       "    }\n",
       "\n",
       "    .dataframe tbody tr th {\n",
       "        vertical-align: top;\n",
       "    }\n",
       "\n",
       "    .dataframe thead th {\n",
       "        text-align: right;\n",
       "    }\n",
       "</style>\n",
       "<table border=\"1\" class=\"dataframe\">\n",
       "  <thead>\n",
       "    <tr style=\"text-align: right;\">\n",
       "      <th></th>\n",
       "      <th>Inspection Score</th>\n",
       "      <th>Street Number</th>\n",
       "    </tr>\n",
       "  </thead>\n",
       "  <tbody>\n",
       "    <tr>\n",
       "      <th>count</th>\n",
       "      <td>43925.000000</td>\n",
       "      <td>43925.000000</td>\n",
       "    </tr>\n",
       "    <tr>\n",
       "      <th>mean</th>\n",
       "      <td>89.923665</td>\n",
       "      <td>5570.835265</td>\n",
       "    </tr>\n",
       "    <tr>\n",
       "      <th>std</th>\n",
       "      <td>4.353194</td>\n",
       "      <td>4338.987615</td>\n",
       "    </tr>\n",
       "    <tr>\n",
       "      <th>min</th>\n",
       "      <td>81.000000</td>\n",
       "      <td>0.000000</td>\n",
       "    </tr>\n",
       "    <tr>\n",
       "      <th>25%</th>\n",
       "      <td>87.000000</td>\n",
       "      <td>2323.000000</td>\n",
       "    </tr>\n",
       "    <tr>\n",
       "      <th>50%</th>\n",
       "      <td>90.000000</td>\n",
       "      <td>4235.000000</td>\n",
       "    </tr>\n",
       "    <tr>\n",
       "      <th>75%</th>\n",
       "      <td>94.000000</td>\n",
       "      <td>8301.000000</td>\n",
       "    </tr>\n",
       "    <tr>\n",
       "      <th>max</th>\n",
       "      <td>96.000000</td>\n",
       "      <td>39779.000000</td>\n",
       "    </tr>\n",
       "  </tbody>\n",
       "</table>\n",
       "</div>"
      ],
      "text/plain": [
       "       Inspection Score  Street Number\n",
       "count      43925.000000   43925.000000\n",
       "mean          89.923665    5570.835265\n",
       "std            4.353194    4338.987615\n",
       "min           81.000000       0.000000\n",
       "25%           87.000000    2323.000000\n",
       "50%           90.000000    4235.000000\n",
       "75%           94.000000    8301.000000\n",
       "max           96.000000   39779.000000"
      ]
     },
     "execution_count": 31,
     "metadata": {},
     "output_type": "execute_result"
    }
   ],
   "source": [
    "q01 = df['Inspection Score'].quantile(0.05)\n",
    "q90 = df['Inspection Score'].quantile(0.80)\n",
    "df = df[df['Inspection Score'] < q90]\n",
    "df = df[df['Inspection Score'] > q01]\n",
    "\n",
    "df.describe()"
   ]
  },
  {
   "cell_type": "code",
   "execution_count": 32,
   "id": "527c2111",
   "metadata": {},
   "outputs": [
    {
     "name": "stderr",
     "output_type": "stream",
     "text": [
      "C:\\softwares\\Anaconda\\lib\\site-packages\\seaborn\\_decorators.py:36: FutureWarning: Pass the following variable as a keyword arg: x. From version 0.12, the only valid positional argument will be `data`, and passing other arguments without an explicit keyword will result in an error or misinterpretation.\n",
      "  warnings.warn(\n"
     ]
    },
    {
     "data": {
      "text/plain": [
       "<AxesSubplot:xlabel='Inspection Score'>"
      ]
     },
     "execution_count": 32,
     "metadata": {},
     "output_type": "execute_result"
    },
    {
     "data": {
      "image/png": "[encoded data removed]",
      "text/plain": [
       "<Figure size 432x288 with 1 Axes>"
      ]
     },
     "metadata": {
      "needs_background": "light"
     },
     "output_type": "display_data"
    }
   ],
   "source": [
    "plt.figure()\n",
    "sns.boxplot(df['Inspection Score'])"
   ]
  },
  {
   "cell_type": "markdown",
   "id": "34773475",
   "metadata": {},
   "source": [
    "# Observations on Data:\n",
    "    We have noticed an Increase of Inspection Score from 2017 to 2022.\n",
    "    We have noticed that the minimum inspection score is less than 50%.\n",
    "    We can see the follow-up inspection type is at bottom and Routine at top.\n",
    "    We have 24 violation details and violation description of which most of them are NA values. So, from that we have inferred that considering violation detail and description till 2 can help to get more about data.\n",
    "    From Boxplot,we noticed more extreme data points. So to handle that we have used IQR technique to remove outliers in data.\n",
    "    Most of the retaurants are scored less for bad food compared with less hygiene.\n",
    "    There is no correlation here, as the dataset has less numeric values.\n",
    "    \n",
    "    \n",
    "    "
   ]
  },
  {
   "cell_type": "code",
   "execution_count": null,
   "id": "7c1f63cc",
   "metadata": {},
   "outputs": [],
   "source": []
  }
 ],
 "metadata": {
  "kernelspec": {
   "display_name": "Python 3 (ipykernel)",
   "language": "python",
   "name": "python3"
  },
  "language_info": {
   "codemirror_mode": {
    "name": "ipython",
    "version": 3
   },
   "file_extension": ".py",
   "mimetype": "text/x-python",
   "name": "python",
   "nbconvert_exporter": "python",
   "pygments_lexer": "ipython3",
   "version": "3.9.12"
  }
 },
 "nbformat": 4,
 "nbformat_minor": 5
}
